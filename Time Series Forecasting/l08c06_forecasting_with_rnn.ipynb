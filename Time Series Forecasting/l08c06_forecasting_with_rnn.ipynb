{
  "cells": [
    {
      "cell_type": "markdown",
      "metadata": {
        "id": "Za8-Nr5k11fh"
      },
      "source": [
        "##### Copyright 2018 The TensorFlow Authors."
      ]
    },
    {
      "cell_type": "code",
      "execution_count": null,
      "metadata": {
        "cellView": "form",
        "id": "Eq10uEbw0E4l"
      },
      "outputs": [],
      "source": [
        "#@title Licensed under the Apache License, Version 2.0 (the \"License\");\n",
        "# you may not use this file except in compliance with the License.\n",
        "# You may obtain a copy of the License at\n",
        "#\n",
        "# https://www.apache.org/licenses/LICENSE-2.0\n",
        "#\n",
        "# Unless required by applicable law or agreed to in writing, software\n",
        "# distributed under the License is distributed on an \"AS IS\" BASIS,\n",
        "# WITHOUT WARRANTIES OR CONDITIONS OF ANY KIND, either express or implied.\n",
        "# See the License for the specific language governing permissions and\n",
        "# limitations under the License."
      ]
    },
    {
      "cell_type": "markdown",
      "metadata": {
        "id": "nuRx7K-sirJr"
      },
      "source": [
        "# Forecasting with an RNN"
      ]
    },
    {
      "cell_type": "markdown",
      "metadata": {
        "id": "97jsq1rHh2Ds"
      },
      "source": [
        "<table class=\"tfo-notebook-buttons\" align=\"left\">\n",
        "  <td>\n",
        "    <a target=\"_blank\" href=\"https://colab.research.google.com/github/tensorflow/examples/blob/master/courses/udacity_intro_to_tensorflow_for_deep_learning/l08c06_forecasting_with_rnn.ipynb\"><img src=\"https://www.tensorflow.org/images/colab_logo_32px.png\" />Run in Google Colab</a>\n",
        "  </td>\n",
        "  <td>\n",
        "    <a target=\"_blank\" href=\"https://github.com/tensorflow/examples/blob/master/courses/udacity_intro_to_tensorflow_for_deep_learning/l08c06_forecasting_with_rnn.ipynb\"><img src=\"https://www.tensorflow.org/images/GitHub-Mark-32px.png\" />View source on GitHub</a>\n",
        "  </td>\n",
        "</table>"
      ]
    },
    {
      "cell_type": "markdown",
      "metadata": {
        "id": "vidayERjaO5q"
      },
      "source": [
        "## Setup"
      ]
    },
    {
      "cell_type": "code",
      "execution_count": 1,
      "metadata": {
        "id": "gqWabzlJ63nL"
      },
      "outputs": [],
      "source": [
        "import numpy as np\n",
        "import matplotlib.pyplot as plt\n",
        "import tensorflow as tf\n",
        "keras = tf.keras"
      ]
    },
    {
      "cell_type": "code",
      "execution_count": 2,
      "metadata": {
        "id": "cg1hfKCPldZG"
      },
      "outputs": [],
      "source": [
        "def plot_series(time, series, format=\"-\", start=0, end=None, label=None):\n",
        "    plt.plot(time[start:end], series[start:end], format, label=label)\n",
        "    plt.xlabel(\"Time\")\n",
        "    plt.ylabel(\"Value\")\n",
        "    if label:\n",
        "        plt.legend(fontsize=14)\n",
        "    plt.grid(True)\n",
        "\n",
        "def trend(time, slope=0):\n",
        "    return slope * time\n",
        "\n",
        "\n",
        "def seasonal_pattern(season_time):\n",
        "    \"\"\"Just an arbitrary pattern, you can change it if you wish\"\"\"\n",
        "    return np.where(season_time < 0.4,\n",
        "                    np.cos(season_time * 2 * np.pi),\n",
        "                    1 / np.exp(3 * season_time))\n",
        "\n",
        "\n",
        "def seasonality(time, period, amplitude=1, phase=0):\n",
        "    \"\"\"Repeats the same pattern at each period\"\"\"\n",
        "    season_time = ((time + phase) % period) / period\n",
        "    return amplitude * seasonal_pattern(season_time)\n",
        "\n",
        "\n",
        "def white_noise(time, noise_level=1, seed=None):\n",
        "    rnd = np.random.RandomState(seed)\n",
        "    return rnd.randn(len(time)) * noise_level\n",
        "\n",
        "\n",
        "def window_dataset(series, window_size, batch_size=32,\n",
        "                   shuffle_buffer=1000):\n",
        "    dataset = tf.data.Dataset.from_tensor_slices(series)\n",
        "    dataset = dataset.window(window_size + 1, shift=1, drop_remainder=True)\n",
        "    dataset = dataset.flat_map(lambda window: window.batch(window_size + 1))\n",
        "    dataset = dataset.shuffle(shuffle_buffer)\n",
        "    dataset = dataset.map(lambda window: (window[:-1], window[-1]))\n",
        "    dataset = dataset.batch(batch_size).prefetch(1)\n",
        "    return dataset\n",
        "\n",
        "def model_forecast(model, series, window_size):\n",
        "    ds = tf.data.Dataset.from_tensor_slices(series)\n",
        "    ds = ds.window(window_size, shift=1, drop_remainder=True)\n",
        "    ds = ds.flat_map(lambda w: w.batch(window_size))\n",
        "    ds = ds.batch(32).prefetch(1)\n",
        "    forecast = model.predict(ds)\n",
        "    return forecast"
      ]
    },
    {
      "cell_type": "code",
      "execution_count": 3,
      "metadata": {
        "id": "iL2DDjV3lel6",
        "colab": {
          "base_uri": "https://localhost:8080/",
          "height": 542
        },
        "outputId": "b83bfc47-9952-41cd-d87f-f2ed3d365364"
      },
      "outputs": [
        {
          "output_type": "display_data",
          "data": {
            "text/plain": [
              "<Figure size 1000x600 with 1 Axes>"
            ],
            "image/png": "[encoded data removed]"
          },
          "metadata": {}
        }
      ],
      "source": [
        "time = np.arange(4 * 365 + 1)\n",
        "\n",
        "slope = 0.05\n",
        "baseline = 10\n",
        "amplitude = 40\n",
        "series = baseline + trend(time, slope) + seasonality(time, period=365, amplitude=amplitude)\n",
        "\n",
        "noise_level = 5\n",
        "noise = white_noise(time, noise_level, seed=42)\n",
        "\n",
        "series += noise\n",
        "\n",
        "plt.figure(figsize=(10, 6))\n",
        "plot_series(time, series)\n",
        "plt.show()"
      ]
    },
    {
      "cell_type": "code",
      "execution_count": 4,
      "metadata": {
        "id": "Zmp1JXKxk9Vb"
      },
      "outputs": [],
      "source": [
        "split_time = 1000\n",
        "time_train = time[:split_time]\n",
        "x_train = series[:split_time]\n",
        "time_valid = time[split_time:]\n",
        "x_valid = series[split_time:]"
      ]
    },
    {
      "cell_type": "code",
      "source": [
        "len(x_train), len(x_valid)"
      ],
      "metadata": {
        "colab": {
          "base_uri": "https://localhost:8080/"
        },
        "id": "T4U56aamPhMZ",
        "outputId": "4f9e4c0d-6604-46a6-afb0-9d9dce5cd886"
      },
      "execution_count": 23,
      "outputs": [
        {
          "output_type": "execute_result",
          "data": {
            "text/plain": [
              "(1000, 461)"
            ]
          },
          "metadata": {},
          "execution_count": 23
        }
      ]
    },
    {
      "cell_type": "markdown",
      "metadata": {
        "id": "vDs_w3kZ8OIw"
      },
      "source": [
        "## Simple RNN Forecasting"
      ]
    },
    {
      "cell_type": "code",
      "source": [
        "for x, y in window_dataset(x_train, window_size, batch_size=128):\n",
        "  print(x.shape)\n",
        "  print(y.shape)\n",
        "  break"
      ],
      "metadata": {
        "colab": {
          "base_uri": "https://localhost:8080/"
        },
        "id": "A5AMMI5iPWRf",
        "outputId": "99b0b47a-9a65-4a52-bf2e-c90a3fc0bea6"
      },
      "execution_count": 15,
      "outputs": [
        {
          "output_type": "stream",
          "name": "stdout",
          "text": [
            "(128, 30)\n",
            "(128,)\n"
          ]
        }
      ]
    },
    {
      "cell_type": "code",
      "execution_count": 8,
      "metadata": {
        "id": "YU4xRp9G8OIx",
        "colab": {
          "base_uri": "https://localhost:8080/"
        },
        "outputId": "82ffd254-2e87-45d1-a9af-e21e6b06b07c"
      },
      "outputs": [
        {
          "output_type": "stream",
          "name": "stderr",
          "text": [
            "WARNING:absl:`lr` is deprecated in Keras optimizer, please use `learning_rate` or use the legacy optimizer, e.g.,tf.keras.optimizers.legacy.SGD.\n"
          ]
        },
        {
          "output_type": "stream",
          "name": "stdout",
          "text": [
            "Epoch 1/100\n",
            "8/8 [==============================] - 2s 40ms/step - loss: 123.7370 - mae: 124.2370 - lr: 1.0000e-07\n",
            "Epoch 2/100\n",
            "8/8 [==============================] - 0s 37ms/step - loss: 86.7634 - mae: 87.2631 - lr: 1.1220e-07\n",
            "Epoch 3/100\n",
            "8/8 [==============================] - 0s 36ms/step - loss: 33.1689 - mae: 33.6658 - lr: 1.2589e-07\n",
            "Epoch 4/100\n",
            "8/8 [==============================] - 0s 35ms/step - loss: 30.1261 - mae: 30.6236 - lr: 1.4125e-07\n",
            "Epoch 5/100\n",
            "8/8 [==============================] - 0s 34ms/step - loss: 21.6968 - mae: 22.1886 - lr: 1.5849e-07\n",
            "Epoch 6/100\n",
            "8/8 [==============================] - 0s 34ms/step - loss: 21.6150 - mae: 22.1081 - lr: 1.7783e-07\n",
            "Epoch 7/100\n",
            "8/8 [==============================] - 0s 35ms/step - loss: 18.6677 - mae: 19.1606 - lr: 1.9953e-07\n",
            "Epoch 8/100\n",
            "8/8 [==============================] - 0s 44ms/step - loss: 17.0562 - mae: 17.5481 - lr: 2.2387e-07\n",
            "Epoch 9/100\n",
            "8/8 [==============================] - 1s 58ms/step - loss: 15.6893 - mae: 16.1771 - lr: 2.5119e-07\n",
            "Epoch 10/100\n",
            "8/8 [==============================] - 1s 62ms/step - loss: 14.5578 - mae: 15.0464 - lr: 2.8184e-07\n",
            "Epoch 11/100\n",
            "8/8 [==============================] - 1s 55ms/step - loss: 13.7612 - mae: 14.2506 - lr: 3.1623e-07\n",
            "Epoch 12/100\n",
            "8/8 [==============================] - 0s 34ms/step - loss: 13.2469 - mae: 13.7295 - lr: 3.5481e-07\n",
            "Epoch 13/100\n",
            "8/8 [==============================] - 0s 35ms/step - loss: 12.8696 - mae: 13.3530 - lr: 3.9811e-07\n",
            "Epoch 14/100\n",
            "8/8 [==============================] - 0s 34ms/step - loss: 12.5228 - mae: 13.0085 - lr: 4.4668e-07\n",
            "Epoch 15/100\n",
            "8/8 [==============================] - 0s 37ms/step - loss: 12.2066 - mae: 12.6932 - lr: 5.0119e-07\n",
            "Epoch 16/100\n",
            "8/8 [==============================] - 0s 34ms/step - loss: 11.9165 - mae: 12.4001 - lr: 5.6234e-07\n",
            "Epoch 17/100\n",
            "8/8 [==============================] - 0s 34ms/step - loss: 11.5237 - mae: 12.0073 - lr: 6.3096e-07\n",
            "Epoch 18/100\n",
            "8/8 [==============================] - 0s 34ms/step - loss: 11.2386 - mae: 11.7206 - lr: 7.0795e-07\n",
            "Epoch 19/100\n",
            "8/8 [==============================] - 0s 36ms/step - loss: 10.7753 - mae: 11.2582 - lr: 7.9433e-07\n",
            "Epoch 20/100\n",
            "8/8 [==============================] - 0s 35ms/step - loss: 10.5005 - mae: 10.9814 - lr: 8.9125e-07\n",
            "Epoch 21/100\n",
            "8/8 [==============================] - 0s 35ms/step - loss: 10.0706 - mae: 10.5515 - lr: 1.0000e-06\n",
            "Epoch 22/100\n",
            "8/8 [==============================] - 0s 35ms/step - loss: 10.1268 - mae: 10.6112 - lr: 1.1220e-06\n",
            "Epoch 23/100\n",
            "8/8 [==============================] - 0s 34ms/step - loss: 9.2233 - mae: 9.7028 - lr: 1.2589e-06\n",
            "Epoch 24/100\n",
            "8/8 [==============================] - 0s 35ms/step - loss: 8.9793 - mae: 9.4573 - lr: 1.4125e-06\n",
            "Epoch 25/100\n",
            "8/8 [==============================] - 0s 35ms/step - loss: 8.9322 - mae: 9.4140 - lr: 1.5849e-06\n",
            "Epoch 26/100\n",
            "8/8 [==============================] - 0s 34ms/step - loss: 9.1834 - mae: 9.6704 - lr: 1.7783e-06\n",
            "Epoch 27/100\n",
            "8/8 [==============================] - 0s 37ms/step - loss: 8.4829 - mae: 8.9667 - lr: 1.9953e-06\n",
            "Epoch 28/100\n",
            "8/8 [==============================] - 0s 34ms/step - loss: 8.5166 - mae: 8.9996 - lr: 2.2387e-06\n",
            "Epoch 29/100\n",
            "8/8 [==============================] - 0s 36ms/step - loss: 8.9199 - mae: 9.4042 - lr: 2.5119e-06\n",
            "Epoch 30/100\n",
            "8/8 [==============================] - 0s 34ms/step - loss: 8.8815 - mae: 9.3723 - lr: 2.8184e-06\n",
            "Epoch 31/100\n",
            "8/8 [==============================] - 1s 51ms/step - loss: 12.3362 - mae: 12.8277 - lr: 3.1623e-06\n",
            "Epoch 32/100\n",
            "8/8 [==============================] - 1s 59ms/step - loss: 26.1873 - mae: 26.6812 - lr: 3.5481e-06\n",
            "Epoch 33/100\n",
            "8/8 [==============================] - 1s 61ms/step - loss: 20.2557 - mae: 20.7517 - lr: 3.9811e-06\n",
            "Epoch 34/100\n",
            "8/8 [==============================] - 0s 36ms/step - loss: 13.9505 - mae: 14.4459 - lr: 4.4668e-06\n",
            "Epoch 35/100\n",
            "8/8 [==============================] - 0s 34ms/step - loss: 18.8259 - mae: 19.3248 - lr: 5.0119e-06\n",
            "Epoch 36/100\n",
            "8/8 [==============================] - 0s 34ms/step - loss: 19.4897 - mae: 19.9886 - lr: 5.6234e-06\n",
            "Epoch 37/100\n",
            "8/8 [==============================] - 0s 36ms/step - loss: 19.6168 - mae: 20.1142 - lr: 6.3096e-06\n",
            "Epoch 38/100\n",
            "8/8 [==============================] - 0s 35ms/step - loss: 20.2132 - mae: 20.7101 - lr: 7.0795e-06\n",
            "Epoch 39/100\n",
            "8/8 [==============================] - 0s 36ms/step - loss: 22.0356 - mae: 22.5327 - lr: 7.9433e-06\n",
            "Epoch 40/100\n",
            "8/8 [==============================] - 0s 35ms/step - loss: 22.5374 - mae: 23.0332 - lr: 8.9125e-06\n",
            "Epoch 41/100\n",
            "8/8 [==============================] - 0s 36ms/step - loss: 11.8263 - mae: 12.3175 - lr: 1.0000e-05\n",
            "Epoch 42/100\n",
            "8/8 [==============================] - 0s 34ms/step - loss: 9.5383 - mae: 10.0257 - lr: 1.1220e-05\n",
            "Epoch 43/100\n",
            "8/8 [==============================] - 0s 35ms/step - loss: 15.5880 - mae: 16.0805 - lr: 1.2589e-05\n",
            "Epoch 44/100\n",
            "8/8 [==============================] - 0s 35ms/step - loss: 15.7352 - mae: 16.2295 - lr: 1.4125e-05\n",
            "Epoch 45/100\n",
            "8/8 [==============================] - 0s 33ms/step - loss: 38.3315 - mae: 38.8306 - lr: 1.5849e-05\n",
            "Epoch 46/100\n",
            "8/8 [==============================] - 0s 35ms/step - loss: 36.7513 - mae: 37.2507 - lr: 1.7783e-05\n",
            "Epoch 47/100\n",
            "8/8 [==============================] - 0s 36ms/step - loss: 35.4584 - mae: 35.9563 - lr: 1.9953e-05\n",
            "Epoch 48/100\n",
            "8/8 [==============================] - 0s 36ms/step - loss: 38.8593 - mae: 39.3573 - lr: 2.2387e-05\n",
            "Epoch 49/100\n",
            "8/8 [==============================] - 0s 36ms/step - loss: 46.6029 - mae: 47.1004 - lr: 2.5119e-05\n",
            "Epoch 50/100\n",
            "8/8 [==============================] - 0s 36ms/step - loss: 85.2217 - mae: 85.7204 - lr: 2.8184e-05\n",
            "Epoch 51/100\n",
            "8/8 [==============================] - 1s 58ms/step - loss: 44.9743 - mae: 45.4718 - lr: 3.1623e-05\n",
            "Epoch 52/100\n",
            "8/8 [==============================] - 1s 57ms/step - loss: 45.9662 - mae: 46.4635 - lr: 3.5481e-05\n",
            "Epoch 53/100\n",
            "8/8 [==============================] - 1s 57ms/step - loss: 50.8598 - mae: 51.3589 - lr: 3.9811e-05\n",
            "Epoch 54/100\n",
            "8/8 [==============================] - 0s 35ms/step - loss: 63.6889 - mae: 64.1857 - lr: 4.4668e-05\n",
            "Epoch 55/100\n",
            "8/8 [==============================] - 0s 35ms/step - loss: 54.6412 - mae: 55.1408 - lr: 5.0119e-05\n",
            "Epoch 56/100\n",
            "8/8 [==============================] - 0s 36ms/step - loss: 58.0951 - mae: 58.5951 - lr: 5.6234e-05\n",
            "Epoch 57/100\n",
            "8/8 [==============================] - 0s 36ms/step - loss: 61.7125 - mae: 62.2119 - lr: 6.3096e-05\n",
            "Epoch 58/100\n",
            "8/8 [==============================] - 0s 36ms/step - loss: 61.7983 - mae: 62.2983 - lr: 7.0795e-05\n",
            "Epoch 59/100\n",
            "8/8 [==============================] - 0s 36ms/step - loss: 65.0799 - mae: 65.5797 - lr: 7.9433e-05\n",
            "Epoch 60/100\n",
            "8/8 [==============================] - 0s 34ms/step - loss: 68.0343 - mae: 68.5341 - lr: 8.9125e-05\n",
            "Epoch 61/100\n",
            "8/8 [==============================] - 0s 35ms/step - loss: 77.1702 - mae: 77.6698 - lr: 1.0000e-04\n",
            "Epoch 62/100\n",
            "8/8 [==============================] - 0s 34ms/step - loss: 97.0181 - mae: 97.5171 - lr: 1.1220e-04\n",
            "Epoch 63/100\n",
            "8/8 [==============================] - 0s 35ms/step - loss: 117.0010 - mae: 117.5010 - lr: 1.2589e-04\n",
            "Epoch 64/100\n",
            "8/8 [==============================] - 0s 35ms/step - loss: 167.8040 - mae: 168.3036 - lr: 1.4125e-04\n",
            "Epoch 65/100\n",
            "8/8 [==============================] - 0s 34ms/step - loss: 175.5041 - mae: 176.0041 - lr: 1.5849e-04\n",
            "Epoch 66/100\n",
            "8/8 [==============================] - 0s 35ms/step - loss: 190.8364 - mae: 191.3364 - lr: 1.7783e-04\n",
            "Epoch 67/100\n",
            "8/8 [==============================] - 0s 33ms/step - loss: 213.8507 - mae: 214.3507 - lr: 1.9953e-04\n",
            "Epoch 68/100\n",
            "8/8 [==============================] - 0s 34ms/step - loss: 296.3548 - mae: 296.8548 - lr: 2.2387e-04\n",
            "Epoch 69/100\n",
            "8/8 [==============================] - 0s 35ms/step - loss: 371.3771 - mae: 371.8771 - lr: 2.5119e-04\n",
            "Epoch 70/100\n",
            "8/8 [==============================] - 0s 36ms/step - loss: 443.5670 - mae: 444.0670 - lr: 2.8184e-04\n",
            "Epoch 71/100\n",
            "8/8 [==============================] - 0s 35ms/step - loss: 545.9025 - mae: 546.4025 - lr: 3.1623e-04\n",
            "Epoch 72/100\n",
            "8/8 [==============================] - 1s 50ms/step - loss: 644.0729 - mae: 644.5729 - lr: 3.5481e-04\n",
            "Epoch 73/100\n",
            "8/8 [==============================] - 1s 58ms/step - loss: 792.1188 - mae: 792.6188 - lr: 3.9811e-04\n",
            "Epoch 74/100\n",
            "8/8 [==============================] - 1s 63ms/step - loss: 867.7334 - mae: 868.2334 - lr: 4.4668e-04\n",
            "Epoch 75/100\n",
            "8/8 [==============================] - 1s 57ms/step - loss: 947.0768 - mae: 947.5768 - lr: 5.0119e-04\n",
            "Epoch 76/100\n",
            "8/8 [==============================] - 0s 35ms/step - loss: 1117.7296 - mae: 1118.2296 - lr: 5.6234e-04\n",
            "Epoch 77/100\n",
            "8/8 [==============================] - 0s 39ms/step - loss: 1255.0431 - mae: 1255.5431 - lr: 6.3096e-04\n",
            "Epoch 78/100\n",
            "8/8 [==============================] - 0s 35ms/step - loss: 1383.9072 - mae: 1384.4072 - lr: 7.0795e-04\n",
            "Epoch 79/100\n",
            "8/8 [==============================] - 0s 37ms/step - loss: 1573.7401 - mae: 1574.2401 - lr: 7.9433e-04\n",
            "Epoch 80/100\n",
            "8/8 [==============================] - 0s 35ms/step - loss: 1815.0577 - mae: 1815.5577 - lr: 8.9125e-04\n",
            "Epoch 81/100\n",
            "8/8 [==============================] - 0s 37ms/step - loss: 1989.7679 - mae: 1990.2679 - lr: 0.0010\n",
            "Epoch 82/100\n",
            "8/8 [==============================] - 0s 35ms/step - loss: 2326.4131 - mae: 2326.9131 - lr: 0.0011\n",
            "Epoch 83/100\n",
            "8/8 [==============================] - 0s 39ms/step - loss: 2723.0608 - mae: 2723.5608 - lr: 0.0013\n",
            "Epoch 84/100\n",
            "8/8 [==============================] - 0s 34ms/step - loss: 2987.2671 - mae: 2987.7671 - lr: 0.0014\n",
            "Epoch 85/100\n",
            "8/8 [==============================] - 0s 36ms/step - loss: 3209.6140 - mae: 3210.1140 - lr: 0.0016\n",
            "Epoch 86/100\n",
            "8/8 [==============================] - 0s 35ms/step - loss: 4056.7908 - mae: 4057.2908 - lr: 0.0018\n",
            "Epoch 87/100\n",
            "8/8 [==============================] - 0s 34ms/step - loss: 4905.6318 - mae: 4906.1318 - lr: 0.0020\n",
            "Epoch 88/100\n",
            "8/8 [==============================] - 0s 35ms/step - loss: 4814.5034 - mae: 4815.0034 - lr: 0.0022\n",
            "Epoch 89/100\n",
            "8/8 [==============================] - 0s 37ms/step - loss: 5622.4697 - mae: 5622.9697 - lr: 0.0025\n",
            "Epoch 90/100\n",
            "8/8 [==============================] - 0s 35ms/step - loss: 6148.2041 - mae: 6148.7041 - lr: 0.0028\n",
            "Epoch 91/100\n",
            "8/8 [==============================] - 0s 37ms/step - loss: 6453.3701 - mae: 6453.8701 - lr: 0.0032\n",
            "Epoch 92/100\n",
            "8/8 [==============================] - 0s 34ms/step - loss: 7363.9902 - mae: 7364.4902 - lr: 0.0035\n",
            "Epoch 93/100\n",
            "8/8 [==============================] - 0s 36ms/step - loss: 8295.4531 - mae: 8295.9531 - lr: 0.0040\n",
            "Epoch 94/100\n",
            "8/8 [==============================] - 0s 35ms/step - loss: 9160.4121 - mae: 9160.9121 - lr: 0.0045\n",
            "Epoch 95/100\n",
            "8/8 [==============================] - 1s 59ms/step - loss: 10278.4766 - mae: 10278.9766 - lr: 0.0050\n",
            "Epoch 96/100\n",
            "8/8 [==============================] - 1s 58ms/step - loss: 11892.6846 - mae: 11893.1855 - lr: 0.0056\n",
            "Epoch 97/100\n",
            "8/8 [==============================] - 1s 56ms/step - loss: 13100.9990 - mae: 13101.4990 - lr: 0.0063\n",
            "Epoch 98/100\n",
            "8/8 [==============================] - 1s 37ms/step - loss: 14976.3574 - mae: 14976.8574 - lr: 0.0071\n",
            "Epoch 99/100\n",
            "8/8 [==============================] - 0s 34ms/step - loss: 17057.3906 - mae: 17057.8906 - lr: 0.0079\n",
            "Epoch 100/100\n",
            "8/8 [==============================] - 0s 34ms/step - loss: 18905.0312 - mae: 18905.5293 - lr: 0.0089\n"
          ]
        }
      ],
      "source": [
        "keras.backend.clear_session()\n",
        "tf.random.set_seed(42)\n",
        "np.random.seed(42)\n",
        "\n",
        "window_size = 30\n",
        "train_set = window_dataset(x_train, window_size, batch_size=128)\n",
        "\n",
        "model = keras.models.Sequential([\n",
        "  keras.layers.Lambda(lambda x: tf.expand_dims(x, axis=-1), # Adds a new dimension of size 1\n",
        "                      input_shape=[None]), # Input shape as None allows to take in any input length\n",
        "  keras.layers.SimpleRNN(100, return_sequences=True),\n",
        "  keras.layers.SimpleRNN(100),\n",
        "  keras.layers.Dense(1),\n",
        "  keras.layers.Lambda(lambda x: x * 200.0)\n",
        "])\n",
        "lr_schedule = keras.callbacks.LearningRateScheduler(\n",
        "    lambda epoch: 1e-7 * 10**(epoch / 20))\n",
        "optimizer = keras.optimizers.SGD(lr=1e-7, momentum=0.9)\n",
        "model.compile(loss=keras.losses.Huber(),\n",
        "              optimizer=optimizer,\n",
        "              metrics=[\"mae\"])\n",
        "history = model.fit(train_set, epochs=100, callbacks=[lr_schedule])"
      ]
    },
    {
      "cell_type": "code",
      "execution_count": 16,
      "metadata": {
        "id": "YJTlFAXF8OIy",
        "colab": {
          "base_uri": "https://localhost:8080/",
          "height": 457
        },
        "outputId": "9b62dfc8-8f54-4cc6-f613-5825958b9795"
      },
      "outputs": [
        {
          "output_type": "execute_result",
          "data": {
            "text/plain": [
              "(1e-07, 0.0001, 0.0, 30.0)"
            ]
          },
          "metadata": {},
          "execution_count": 16
        },
        {
          "output_type": "display_data",
          "data": {
            "text/plain": [
              "<Figure size 640x480 with 1 Axes>"
            ],
            "image/png": "[encoded data removed]"
          },
          "metadata": {}
        }
      ],
      "source": [
        "plt.semilogx(history.history[\"lr\"], history.history[\"loss\"])\n",
        "plt.axis([1e-7, 1e-4, 0, 30])"
      ]
    },
    {
      "cell_type": "markdown",
      "source": [
        "## Training the exact same model, this time using a validation set"
      ],
      "metadata": {
        "id": "R2UvoCZ5TKNE"
      }
    },
    {
      "cell_type": "code",
      "execution_count": 17,
      "metadata": {
        "id": "T3yNjxWE8OIz",
        "colab": {
          "base_uri": "https://localhost:8080/"
        },
        "outputId": "6693f2e9-ae70-4765-8066-146992dd89e1"
      },
      "outputs": [
        {
          "output_type": "stream",
          "name": "stderr",
          "text": [
            "WARNING:absl:`lr` is deprecated in Keras optimizer, please use `learning_rate` or use the legacy optimizer, e.g.,tf.keras.optimizers.legacy.SGD.\n"
          ]
        },
        {
          "output_type": "stream",
          "name": "stdout",
          "text": [
            "Epoch 1/500\n",
            "8/8 [==============================] - 6s 556ms/step - loss: 19811.2930 - mae: 19811.7910 - val_loss: 1747.1195 - val_mae: 1747.6195\n",
            "Epoch 2/500\n",
            "8/8 [==============================] - 1s 60ms/step - loss: 16377.7939 - mae: 16378.2939 - val_loss: 22841.3223 - val_mae: 22841.8223\n",
            "Epoch 3/500\n",
            "8/8 [==============================] - 1s 62ms/step - loss: 40240.0586 - mae: 40240.5586 - val_loss: 9834.0391 - val_mae: 9834.5391\n",
            "Epoch 4/500\n",
            "8/8 [==============================] - 1s 58ms/step - loss: 76286.9141 - mae: 76287.4141 - val_loss: 156118.6562 - val_mae: 156119.1719\n",
            "Epoch 5/500\n",
            "8/8 [==============================] - 1s 60ms/step - loss: 74013.8438 - mae: 74014.3516 - val_loss: 61748.9570 - val_mae: 61749.4531\n",
            "Epoch 6/500\n",
            "8/8 [==============================] - 1s 105ms/step - loss: 23125.0723 - mae: 23125.5723 - val_loss: 21197.4336 - val_mae: 21197.9355\n",
            "Epoch 7/500\n",
            "8/8 [==============================] - 1s 105ms/step - loss: 16348.0977 - mae: 16348.5977 - val_loss: 10609.8125 - val_mae: 10610.3125\n",
            "Epoch 8/500\n",
            "8/8 [==============================] - 1s 97ms/step - loss: 11406.2402 - mae: 11406.7402 - val_loss: 27425.8926 - val_mae: 27426.3945\n",
            "Epoch 9/500\n",
            "8/8 [==============================] - 1s 59ms/step - loss: 21580.4648 - mae: 21580.9629 - val_loss: 3373.2588 - val_mae: 3373.7588\n",
            "Epoch 10/500\n",
            "8/8 [==============================] - 3s 437ms/step - loss: 19014.9609 - mae: 19015.4609 - val_loss: 954.8977 - val_mae: 955.3977\n",
            "Epoch 11/500\n",
            "8/8 [==============================] - 1s 53ms/step - loss: 30482.6582 - mae: 30483.1582 - val_loss: 57327.8320 - val_mae: 57328.3359\n",
            "Epoch 12/500\n",
            "8/8 [==============================] - 1s 58ms/step - loss: 25318.9551 - mae: 25319.4551 - val_loss: 29554.0469 - val_mae: 29554.5469\n",
            "Epoch 13/500\n",
            "8/8 [==============================] - 1s 59ms/step - loss: 37339.7305 - mae: 37340.2305 - val_loss: 8373.0020 - val_mae: 8373.5020\n",
            "Epoch 14/500\n",
            "8/8 [==============================] - 1s 58ms/step - loss: 36581.5391 - mae: 36582.0391 - val_loss: 51407.3867 - val_mae: 51407.8828\n",
            "Epoch 15/500\n",
            "8/8 [==============================] - 1s 57ms/step - loss: 37308.4453 - mae: 37308.9453 - val_loss: 43399.4883 - val_mae: 43399.9844\n",
            "Epoch 16/500\n",
            "8/8 [==============================] - 1s 58ms/step - loss: 39646.6172 - mae: 39647.1172 - val_loss: 36490.2656 - val_mae: 36490.7695\n",
            "Epoch 17/500\n",
            "8/8 [==============================] - 1s 58ms/step - loss: 35691.5000 - mae: 35692.0000 - val_loss: 41904.1641 - val_mae: 41904.6641\n",
            "Epoch 18/500\n",
            "8/8 [==============================] - 1s 85ms/step - loss: 37184.0273 - mae: 37184.5312 - val_loss: 36202.6094 - val_mae: 36203.1094\n",
            "Epoch 19/500\n",
            "8/8 [==============================] - 1s 108ms/step - loss: 36963.8633 - mae: 36964.3672 - val_loss: 21358.8984 - val_mae: 21359.3984\n",
            "Epoch 20/500\n",
            "8/8 [==============================] - 1s 81ms/step - loss: 35660.6133 - mae: 35661.1133 - val_loss: 40549.1953 - val_mae: 40549.6992\n",
            "Epoch 21/500\n",
            "8/8 [==============================] - 1s 62ms/step - loss: 35364.2188 - mae: 35364.7188 - val_loss: 43808.1914 - val_mae: 43808.6875\n",
            "Epoch 22/500\n",
            "8/8 [==============================] - 1s 55ms/step - loss: 39568.8281 - mae: 39569.3281 - val_loss: 30499.6895 - val_mae: 30500.1895\n",
            "Epoch 23/500\n",
            "8/8 [==============================] - 1s 53ms/step - loss: 36193.5742 - mae: 36194.0742 - val_loss: 46073.2344 - val_mae: 46073.7344\n",
            "Epoch 24/500\n",
            "8/8 [==============================] - 1s 55ms/step - loss: 37609.1133 - mae: 37609.6133 - val_loss: 39817.7344 - val_mae: 39818.2305\n",
            "Epoch 25/500\n",
            "8/8 [==============================] - 1s 58ms/step - loss: 38975.2461 - mae: 38975.7461 - val_loss: 29754.2109 - val_mae: 29754.7109\n",
            "Epoch 26/500\n",
            "8/8 [==============================] - 1s 60ms/step - loss: 35366.8477 - mae: 35367.3477 - val_loss: 52283.8477 - val_mae: 52284.3477\n",
            "Epoch 27/500\n",
            "8/8 [==============================] - 1s 61ms/step - loss: 38120.0430 - mae: 38120.5391 - val_loss: 39195.7344 - val_mae: 39196.2305\n",
            "Epoch 28/500\n",
            "8/8 [==============================] - 1s 53ms/step - loss: 38655.0352 - mae: 38655.5352 - val_loss: 33783.2031 - val_mae: 33783.7070\n",
            "Epoch 29/500\n",
            "8/8 [==============================] - 1s 61ms/step - loss: 36043.8477 - mae: 36044.3477 - val_loss: 65894.4922 - val_mae: 65894.9922\n",
            "Epoch 30/500\n",
            "8/8 [==============================] - 1s 59ms/step - loss: 39644.4453 - mae: 39644.9453 - val_loss: 36368.5703 - val_mae: 36369.0703\n",
            "Epoch 31/500\n",
            "8/8 [==============================] - 1s 61ms/step - loss: 38792.6250 - mae: 38793.1250 - val_loss: 31444.9883 - val_mae: 31445.4902\n",
            "Epoch 32/500\n",
            "8/8 [==============================] - 1s 60ms/step - loss: 37194.9336 - mae: 37195.4297 - val_loss: 40581.1680 - val_mae: 40581.6719\n",
            "Epoch 33/500\n",
            "8/8 [==============================] - 1s 59ms/step - loss: 35903.1836 - mae: 35903.6836 - val_loss: 52423.4023 - val_mae: 52423.9023\n",
            "Epoch 34/500\n",
            "8/8 [==============================] - 1s 56ms/step - loss: 41967.1797 - mae: 41967.6797 - val_loss: 43420.4375 - val_mae: 43420.9336\n",
            "Epoch 35/500\n",
            "8/8 [==============================] - 1s 60ms/step - loss: 37282.8008 - mae: 37283.3008 - val_loss: 36584.9297 - val_mae: 36585.4297\n",
            "Epoch 36/500\n",
            "8/8 [==============================] - 1s 90ms/step - loss: 36312.1445 - mae: 36312.6445 - val_loss: 48129.8203 - val_mae: 48130.3203\n",
            "Epoch 37/500\n",
            "8/8 [==============================] - 1s 110ms/step - loss: 41202.4766 - mae: 41202.9766 - val_loss: 36482.8828 - val_mae: 36483.3828\n",
            "Epoch 38/500\n",
            "8/8 [==============================] - 1s 91ms/step - loss: 36770.5781 - mae: 36771.0781 - val_loss: 43003.0859 - val_mae: 43003.5859\n",
            "Epoch 39/500\n",
            "8/8 [==============================] - 1s 70ms/step - loss: 37050.1758 - mae: 37050.6758 - val_loss: 46883.9062 - val_mae: 46884.4023\n",
            "Epoch 40/500\n",
            "8/8 [==============================] - 1s 55ms/step - loss: 40810.1211 - mae: 40810.6172 - val_loss: 31766.5215 - val_mae: 31767.0215\n",
            "Epoch 41/500\n",
            "8/8 [==============================] - 1s 59ms/step - loss: 36196.3789 - mae: 36196.8828 - val_loss: 52248.3438 - val_mae: 52248.8438\n",
            "Epoch 42/500\n",
            "8/8 [==============================] - 1s 57ms/step - loss: 39013.8945 - mae: 39014.3945 - val_loss: 34882.6875 - val_mae: 34883.1875\n",
            "Epoch 43/500\n",
            "8/8 [==============================] - 1s 56ms/step - loss: 38569.0664 - mae: 38569.5664 - val_loss: 31080.2891 - val_mae: 31080.7910\n",
            "Epoch 44/500\n",
            "8/8 [==============================] - 1s 55ms/step - loss: 36822.1250 - mae: 36822.6211 - val_loss: 45704.7578 - val_mae: 45705.2539\n",
            "Epoch 45/500\n",
            "8/8 [==============================] - 1s 61ms/step - loss: 38582.9023 - mae: 38583.4023 - val_loss: 34676.0703 - val_mae: 34676.5703\n",
            "Epoch 46/500\n",
            "8/8 [==============================] - 1s 59ms/step - loss: 38527.4961 - mae: 38528.0000 - val_loss: 22793.7129 - val_mae: 22794.2129\n",
            "Epoch 47/500\n",
            "8/8 [==============================] - 1s 61ms/step - loss: 36458.5859 - mae: 36459.0859 - val_loss: 51558.8438 - val_mae: 51559.3398\n",
            "Epoch 48/500\n",
            "8/8 [==============================] - 1s 57ms/step - loss: 38367.0117 - mae: 38367.5078 - val_loss: 40443.8047 - val_mae: 40444.3047\n",
            "Epoch 49/500\n",
            "8/8 [==============================] - 1s 59ms/step - loss: 39394.0000 - mae: 39394.5039 - val_loss: 27568.2012 - val_mae: 27568.7031\n",
            "Epoch 50/500\n",
            "8/8 [==============================] - 1s 62ms/step - loss: 35815.5000 - mae: 35816.0000 - val_loss: 57028.1172 - val_mae: 57028.6172\n",
            "Epoch 51/500\n",
            "8/8 [==============================] - 1s 55ms/step - loss: 40278.8867 - mae: 40279.3867 - val_loss: 27519.8320 - val_mae: 27520.3320\n",
            "Epoch 52/500\n",
            "8/8 [==============================] - 1s 57ms/step - loss: 36874.6719 - mae: 36875.1758 - val_loss: 19254.8672 - val_mae: 19255.3672\n",
            "Epoch 53/500\n",
            "8/8 [==============================] - 1s 59ms/step - loss: 36247.3828 - mae: 36247.8789 - val_loss: 55246.4688 - val_mae: 55246.9688\n",
            "Epoch 54/500\n",
            "8/8 [==============================] - 1s 106ms/step - loss: 39005.9258 - mae: 39006.4258 - val_loss: 38222.5039 - val_mae: 38223.0078\n",
            "Epoch 55/500\n",
            "8/8 [==============================] - 1s 107ms/step - loss: 39300.1367 - mae: 39300.6367 - val_loss: 36207.3516 - val_mae: 36207.8477\n",
            "Epoch 56/500\n",
            "8/8 [==============================] - 1s 106ms/step - loss: 37336.9297 - mae: 37337.4258 - val_loss: 37434.8008 - val_mae: 37435.3008\n",
            "Epoch 57/500\n",
            "8/8 [==============================] - 1s 58ms/step - loss: 35512.7734 - mae: 35513.2734 - val_loss: 54080.3164 - val_mae: 54080.8164\n",
            "Epoch 58/500\n",
            "8/8 [==============================] - 1s 62ms/step - loss: 42430.0781 - mae: 42430.5781 - val_loss: 44753.1133 - val_mae: 44753.6133\n",
            "Epoch 59/500\n",
            "8/8 [==============================] - 1s 60ms/step - loss: 36981.9766 - mae: 36982.4727 - val_loss: 38197.2305 - val_mae: 38197.7344\n",
            "Epoch 60/500\n",
            "8/8 [==============================] - 1s 61ms/step - loss: 36792.0977 - mae: 36792.6016 - val_loss: 44582.8320 - val_mae: 44583.3320\n"
          ]
        },
        {
          "output_type": "execute_result",
          "data": {
            "text/plain": [
              "<keras.src.callbacks.History at 0x7b61973a49d0>"
            ]
          },
          "metadata": {},
          "execution_count": 17
        }
      ],
      "source": [
        "keras.backend.clear_session()\n",
        "tf.random.set_seed(42)\n",
        "np.random.seed(42)\n",
        "\n",
        "window_size = 30\n",
        "train_set = window_dataset(x_train, window_size, batch_size=128)\n",
        "valid_set = window_dataset(x_valid, window_size, batch_size=128)\n",
        "\n",
        "model = keras.models.Sequential([\n",
        "  keras.layers.Lambda(lambda x: tf.expand_dims(x, axis=-1),\n",
        "                      input_shape=[None]),\n",
        "  keras.layers.SimpleRNN(100, return_sequences=True),\n",
        "  keras.layers.SimpleRNN(100),\n",
        "  keras.layers.Dense(1),\n",
        "  keras.layers.Lambda(lambda x: x * 200.0)\n",
        "])\n",
        "optimizer = keras.optimizers.SGD(lr=1.5e-6, momentum=0.9)\n",
        "model.compile(loss=keras.losses.Huber(),\n",
        "              optimizer=optimizer,\n",
        "              metrics=[\"mae\"])\n",
        "early_stopping = keras.callbacks.EarlyStopping(patience=50)\n",
        "model_checkpoint = keras.callbacks.ModelCheckpoint(\n",
        "    \"my_checkpoint\", save_best_only=True)\n",
        "model.fit(train_set, epochs=500,\n",
        "          validation_data=valid_set,\n",
        "          callbacks=[early_stopping, model_checkpoint])"
      ]
    },
    {
      "cell_type": "code",
      "execution_count": 18,
      "metadata": {
        "id": "4KuPtKFe8OI0"
      },
      "outputs": [],
      "source": [
        "model = keras.models.load_model(\"my_checkpoint\")"
      ]
    },
    {
      "cell_type": "code",
      "source": [
        "len(series[split_time - window_size:-1])"
      ],
      "metadata": {
        "colab": {
          "base_uri": "https://localhost:8080/"
        },
        "id": "JFmXMnHDUxEH",
        "outputId": "996c55f6-9978-4b72-bac4-0d341c34f3a8"
      },
      "execution_count": 22,
      "outputs": [
        {
          "output_type": "execute_result",
          "data": {
            "text/plain": [
              "490"
            ]
          },
          "metadata": {},
          "execution_count": 22
        }
      ]
    },
    {
      "cell_type": "code",
      "execution_count": 20,
      "metadata": {
        "id": "cxq09qOg8OI1",
        "colab": {
          "base_uri": "https://localhost:8080/"
        },
        "outputId": "18a7ceb9-8360-477c-b9d3-5ead812ae34a"
      },
      "outputs": [
        {
          "output_type": "stream",
          "name": "stdout",
          "text": [
            "15/15 [==============================] - 1s 12ms/step\n"
          ]
        }
      ],
      "source": [
        "rnn_forecast = model_forecast(\n",
        "    model,\n",
        "    series[split_time - window_size:-1],\n",
        "    window_size)[:, 0]"
      ]
    },
    {
      "cell_type": "code",
      "execution_count": 24,
      "metadata": {
        "id": "PkC_JssS8OI2",
        "colab": {
          "base_uri": "https://localhost:8080/",
          "height": 542
        },
        "outputId": "e06095ff-80c2-4352-c4bd-1706d2f201e4"
      },
      "outputs": [
        {
          "output_type": "display_data",
          "data": {
            "text/plain": [
              "<Figure size 1000x600 with 1 Axes>"
            ],
            "image/png": "[encoded data removed]"
          },
          "metadata": {}
        }
      ],
      "source": [
        "plt.figure(figsize=(10, 6))\n",
        "plot_series(time_valid, x_valid)\n",
        "plot_series(time_valid, rnn_forecast)"
      ]
    },
    {
      "cell_type": "code",
      "execution_count": 25,
      "metadata": {
        "id": "1mwfgEK08OI3",
        "colab": {
          "base_uri": "https://localhost:8080/"
        },
        "outputId": "b10e9333-4df3-4834-c26f-9c84aa076574"
      },
      "outputs": [
        {
          "output_type": "execute_result",
          "data": {
            "text/plain": [
              "956.2133"
            ]
          },
          "metadata": {},
          "execution_count": 25
        }
      ],
      "source": [
        "keras.metrics.mean_absolute_error(x_valid, rnn_forecast).numpy()"
      ]
    },
    {
      "cell_type": "markdown",
      "metadata": {
        "id": "KNG7s8jt8OI4"
      },
      "source": [
        "## Sequence-to-Sequence Forecasting"
      ]
    },
    {
      "cell_type": "code",
      "execution_count": 35,
      "metadata": {
        "id": "bsKGxfiE8OI4"
      },
      "outputs": [],
      "source": [
        "def seq2seq_window_dataset(series, window_size, batch_size=32,\n",
        "                           shuffle_buffer=1000):\n",
        "    series = tf.expand_dims(series, axis=-1)\n",
        "    ds = tf.data.Dataset.from_tensor_slices(series)\n",
        "    ds = ds.window(window_size + 1, shift=1, drop_remainder=True)\n",
        "    ds = ds.flat_map(lambda w: w.batch(window_size + 1))\n",
        "    ds = ds.shuffle(shuffle_buffer)\n",
        "    ds = ds.map(lambda w: (w[:-1], w[1:])) # This line is only what makes it different compared to window_dataset\n",
        "    return ds.batch(batch_size).prefetch(1)"
      ]
    },
    {
      "cell_type": "code",
      "execution_count": 36,
      "metadata": {
        "id": "5Nk2C7WP8OI5",
        "colab": {
          "base_uri": "https://localhost:8080/"
        },
        "outputId": "89127bdc-41a9-42aa-dfe7-564b95b732f1"
      },
      "outputs": [
        {
          "output_type": "stream",
          "name": "stdout",
          "text": [
            "X: [[[5]\n",
            "  [6]\n",
            "  [7]]]\n",
            "Y: [[[6]\n",
            "  [7]\n",
            "  [8]]]\n",
            "X: [[[4]\n",
            "  [5]\n",
            "  [6]]]\n",
            "Y: [[[5]\n",
            "  [6]\n",
            "  [7]]]\n",
            "X: [[[1]\n",
            "  [2]\n",
            "  [3]]]\n",
            "Y: [[[2]\n",
            "  [3]\n",
            "  [4]]]\n",
            "X: [[[6]\n",
            "  [7]\n",
            "  [8]]]\n",
            "Y: [[[7]\n",
            "  [8]\n",
            "  [9]]]\n",
            "X: [[[2]\n",
            "  [3]\n",
            "  [4]]]\n",
            "Y: [[[3]\n",
            "  [4]\n",
            "  [5]]]\n",
            "X: [[[3]\n",
            "  [4]\n",
            "  [5]]]\n",
            "Y: [[[4]\n",
            "  [5]\n",
            "  [6]]]\n",
            "X: [[[0]\n",
            "  [1]\n",
            "  [2]]]\n",
            "Y: [[[1]\n",
            "  [2]\n",
            "  [3]]]\n"
          ]
        }
      ],
      "source": [
        "for X_batch, Y_batch in seq2seq_window_dataset(tf.range(10), 3,\n",
        "                                               batch_size=1):\n",
        "    print(\"X:\", X_batch.numpy())\n",
        "    print(\"Y:\", Y_batch.numpy())"
      ]
    },
    {
      "cell_type": "code",
      "execution_count": 37,
      "metadata": {
        "id": "4JSc-Btk8OI7",
        "colab": {
          "base_uri": "https://localhost:8080/"
        },
        "outputId": "26ea13f6-f4dd-4fcc-d08e-0813b979fc5a"
      },
      "outputs": [
        {
          "output_type": "stream",
          "name": "stderr",
          "text": [
            "WARNING:absl:`lr` is deprecated in Keras optimizer, please use `learning_rate` or use the legacy optimizer, e.g.,tf.keras.optimizers.legacy.SGD.\n"
          ]
        },
        {
          "output_type": "stream",
          "name": "stdout",
          "text": [
            "Epoch 1/100\n",
            "8/8 [==============================] - 4s 48ms/step - loss: 350.2284 - mae: 350.7283 - lr: 1.0000e-07\n",
            "Epoch 2/100\n",
            "8/8 [==============================] - 0s 41ms/step - loss: 307.2961 - mae: 307.7960 - lr: 1.0798e-07\n",
            "Epoch 3/100\n",
            "8/8 [==============================] - 0s 41ms/step - loss: 240.8570 - mae: 241.3569 - lr: 1.1659e-07\n",
            "Epoch 4/100\n",
            "8/8 [==============================] - 0s 40ms/step - loss: 164.7056 - mae: 165.2055 - lr: 1.2589e-07\n",
            "Epoch 5/100\n",
            "8/8 [==============================] - 0s 39ms/step - loss: 84.2238 - mae: 84.7235 - lr: 1.3594e-07\n",
            "Epoch 6/100\n",
            "8/8 [==============================] - 0s 39ms/step - loss: 29.8448 - mae: 30.3409 - lr: 1.4678e-07\n",
            "Epoch 7/100\n",
            "8/8 [==============================] - 0s 42ms/step - loss: 35.3586 - mae: 35.8567 - lr: 1.5849e-07\n",
            "Epoch 8/100\n",
            "8/8 [==============================] - 0s 38ms/step - loss: 23.5215 - mae: 24.0150 - lr: 1.7113e-07\n",
            "Epoch 9/100\n",
            "8/8 [==============================] - 0s 40ms/step - loss: 21.3805 - mae: 21.8730 - lr: 1.8478e-07\n",
            "Epoch 10/100\n",
            "8/8 [==============================] - 0s 37ms/step - loss: 20.1746 - mae: 20.6654 - lr: 1.9953e-07\n",
            "Epoch 11/100\n",
            "8/8 [==============================] - 0s 38ms/step - loss: 19.0140 - mae: 19.5040 - lr: 2.1544e-07\n",
            "Epoch 12/100\n",
            "8/8 [==============================] - 0s 40ms/step - loss: 18.1481 - mae: 18.6379 - lr: 2.3263e-07\n",
            "Epoch 13/100\n",
            "8/8 [==============================] - 0s 39ms/step - loss: 17.3848 - mae: 17.8737 - lr: 2.5119e-07\n",
            "Epoch 14/100\n",
            "8/8 [==============================] - 0s 43ms/step - loss: 16.6883 - mae: 17.1775 - lr: 2.7123e-07\n",
            "Epoch 15/100\n",
            "8/8 [==============================] - 0s 38ms/step - loss: 16.0505 - mae: 16.5388 - lr: 2.9286e-07\n",
            "Epoch 16/100\n",
            "8/8 [==============================] - 1s 54ms/step - loss: 15.4973 - mae: 15.9851 - lr: 3.1623e-07\n",
            "Epoch 17/100\n",
            "8/8 [==============================] - 1s 64ms/step - loss: 14.9732 - mae: 15.4590 - lr: 3.4145e-07\n",
            "Epoch 18/100\n",
            "8/8 [==============================] - 1s 61ms/step - loss: 14.4920 - mae: 14.9794 - lr: 3.6869e-07\n",
            "Epoch 19/100\n",
            "8/8 [==============================] - 1s 66ms/step - loss: 13.9803 - mae: 14.4672 - lr: 3.9811e-07\n",
            "Epoch 20/100\n",
            "8/8 [==============================] - 0s 39ms/step - loss: 13.4386 - mae: 13.9245 - lr: 4.2987e-07\n",
            "Epoch 21/100\n",
            "8/8 [==============================] - 0s 42ms/step - loss: 12.9049 - mae: 13.3908 - lr: 4.6416e-07\n",
            "Epoch 22/100\n",
            "8/8 [==============================] - 0s 41ms/step - loss: 12.3727 - mae: 12.8575 - lr: 5.0119e-07\n",
            "Epoch 23/100\n",
            "8/8 [==============================] - 0s 38ms/step - loss: 11.8923 - mae: 12.3766 - lr: 5.4117e-07\n",
            "Epoch 24/100\n",
            "8/8 [==============================] - 0s 39ms/step - loss: 11.4943 - mae: 11.9779 - lr: 5.8434e-07\n",
            "Epoch 25/100\n",
            "8/8 [==============================] - 0s 41ms/step - loss: 11.1790 - mae: 11.6631 - lr: 6.3096e-07\n",
            "Epoch 26/100\n",
            "8/8 [==============================] - 0s 40ms/step - loss: 10.9124 - mae: 11.3965 - lr: 6.8129e-07\n",
            "Epoch 27/100\n",
            "8/8 [==============================] - 0s 45ms/step - loss: 10.6705 - mae: 11.1543 - lr: 7.3564e-07\n",
            "Epoch 28/100\n",
            "8/8 [==============================] - 0s 40ms/step - loss: 10.4384 - mae: 10.9223 - lr: 7.9433e-07\n",
            "Epoch 29/100\n",
            "8/8 [==============================] - 0s 40ms/step - loss: 10.2137 - mae: 10.6973 - lr: 8.5770e-07\n",
            "Epoch 30/100\n",
            "8/8 [==============================] - 0s 40ms/step - loss: 10.0366 - mae: 10.5198 - lr: 9.2612e-07\n",
            "Epoch 31/100\n",
            "8/8 [==============================] - 0s 39ms/step - loss: 9.8721 - mae: 10.3560 - lr: 1.0000e-06\n",
            "Epoch 32/100\n",
            "8/8 [==============================] - 0s 40ms/step - loss: 9.7590 - mae: 10.2432 - lr: 1.0798e-06\n",
            "Epoch 33/100\n",
            "8/8 [==============================] - 0s 41ms/step - loss: 9.6066 - mae: 10.0910 - lr: 1.1659e-06\n",
            "Epoch 34/100\n",
            "8/8 [==============================] - 0s 41ms/step - loss: 9.4148 - mae: 9.8979 - lr: 1.2589e-06\n",
            "Epoch 35/100\n",
            "8/8 [==============================] - 0s 38ms/step - loss: 9.2589 - mae: 9.7411 - lr: 1.3594e-06\n",
            "Epoch 36/100\n",
            "8/8 [==============================] - 0s 40ms/step - loss: 9.0711 - mae: 9.5531 - lr: 1.4678e-06\n",
            "Epoch 37/100\n",
            "8/8 [==============================] - 0s 37ms/step - loss: 8.8928 - mae: 9.3737 - lr: 1.5849e-06\n",
            "Epoch 38/100\n",
            "8/8 [==============================] - 1s 50ms/step - loss: 8.7023 - mae: 9.1826 - lr: 1.7113e-06\n",
            "Epoch 39/100\n",
            "8/8 [==============================] - 1s 67ms/step - loss: 8.5336 - mae: 9.0138 - lr: 1.8478e-06\n",
            "Epoch 40/100\n",
            "8/8 [==============================] - 1s 61ms/step - loss: 8.3585 - mae: 8.8390 - lr: 1.9953e-06\n",
            "Epoch 41/100\n",
            "8/8 [==============================] - 1s 42ms/step - loss: 8.1603 - mae: 8.6399 - lr: 2.1544e-06\n",
            "Epoch 42/100\n",
            "8/8 [==============================] - 0s 39ms/step - loss: 8.0668 - mae: 8.5484 - lr: 2.3263e-06\n",
            "Epoch 43/100\n",
            "8/8 [==============================] - 0s 41ms/step - loss: 7.9052 - mae: 8.3858 - lr: 2.5119e-06\n",
            "Epoch 44/100\n",
            "8/8 [==============================] - 0s 40ms/step - loss: 7.8144 - mae: 8.2950 - lr: 2.7123e-06\n",
            "Epoch 45/100\n",
            "8/8 [==============================] - 0s 42ms/step - loss: 7.7187 - mae: 8.1998 - lr: 2.9286e-06\n",
            "Epoch 46/100\n",
            "8/8 [==============================] - 0s 39ms/step - loss: 7.4262 - mae: 7.9062 - lr: 3.1623e-06\n",
            "Epoch 47/100\n",
            "8/8 [==============================] - 0s 41ms/step - loss: 8.0221 - mae: 8.5050 - lr: 3.4145e-06\n",
            "Epoch 48/100\n",
            "8/8 [==============================] - 0s 39ms/step - loss: 8.3356 - mae: 8.8197 - lr: 3.6869e-06\n",
            "Epoch 49/100\n",
            "8/8 [==============================] - 0s 43ms/step - loss: 8.8596 - mae: 9.3457 - lr: 3.9811e-06\n",
            "Epoch 50/100\n",
            "8/8 [==============================] - 0s 40ms/step - loss: 9.5390 - mae: 10.0281 - lr: 4.2987e-06\n",
            "Epoch 51/100\n",
            "8/8 [==============================] - 0s 38ms/step - loss: 9.6274 - mae: 10.1167 - lr: 4.6416e-06\n",
            "Epoch 52/100\n",
            "8/8 [==============================] - 0s 40ms/step - loss: 9.9131 - mae: 10.4036 - lr: 5.0119e-06\n",
            "Epoch 53/100\n",
            "8/8 [==============================] - 0s 39ms/step - loss: 9.9834 - mae: 10.4742 - lr: 5.4117e-06\n",
            "Epoch 54/100\n",
            "8/8 [==============================] - 0s 41ms/step - loss: 9.8021 - mae: 10.2929 - lr: 5.8434e-06\n",
            "Epoch 55/100\n",
            "8/8 [==============================] - 0s 40ms/step - loss: 10.8869 - mae: 11.3800 - lr: 6.3096e-06\n",
            "Epoch 56/100\n",
            "8/8 [==============================] - 0s 39ms/step - loss: 10.1924 - mae: 10.6818 - lr: 6.8129e-06\n",
            "Epoch 57/100\n",
            "8/8 [==============================] - 0s 40ms/step - loss: 11.1634 - mae: 11.6540 - lr: 7.3564e-06\n",
            "Epoch 58/100\n",
            "8/8 [==============================] - 1s 53ms/step - loss: 22.8228 - mae: 23.3192 - lr: 7.9433e-06\n",
            "Epoch 59/100\n",
            "8/8 [==============================] - 1s 60ms/step - loss: 26.8857 - mae: 27.3820 - lr: 8.5770e-06\n",
            "Epoch 60/100\n",
            "8/8 [==============================] - 1s 63ms/step - loss: 53.8698 - mae: 54.3682 - lr: 9.2612e-06\n",
            "Epoch 61/100\n",
            "8/8 [==============================] - 1s 66ms/step - loss: 41.4500 - mae: 41.9478 - lr: 1.0000e-05\n",
            "Epoch 62/100\n",
            "8/8 [==============================] - 0s 38ms/step - loss: 34.2594 - mae: 34.7572 - lr: 1.0798e-05\n",
            "Epoch 63/100\n",
            "8/8 [==============================] - 0s 39ms/step - loss: 36.5618 - mae: 37.0604 - lr: 1.1659e-05\n",
            "Epoch 64/100\n",
            "8/8 [==============================] - 0s 40ms/step - loss: 38.6254 - mae: 39.1245 - lr: 1.2589e-05\n",
            "Epoch 65/100\n",
            "8/8 [==============================] - 0s 39ms/step - loss: 41.5409 - mae: 42.0395 - lr: 1.3594e-05\n",
            "Epoch 66/100\n",
            "8/8 [==============================] - 0s 44ms/step - loss: 38.7513 - mae: 39.2498 - lr: 1.4678e-05\n",
            "Epoch 67/100\n",
            "8/8 [==============================] - 0s 40ms/step - loss: 45.3754 - mae: 45.8747 - lr: 1.5849e-05\n",
            "Epoch 68/100\n",
            "8/8 [==============================] - 0s 42ms/step - loss: 49.8321 - mae: 50.3316 - lr: 1.7113e-05\n",
            "Epoch 69/100\n",
            "8/8 [==============================] - 0s 40ms/step - loss: 43.3485 - mae: 43.8472 - lr: 1.8478e-05\n",
            "Epoch 70/100\n",
            "8/8 [==============================] - 0s 43ms/step - loss: 53.6045 - mae: 54.1042 - lr: 1.9953e-05\n",
            "Epoch 71/100\n",
            "8/8 [==============================] - 0s 38ms/step - loss: 56.5908 - mae: 57.0905 - lr: 2.1544e-05\n",
            "Epoch 72/100\n",
            "8/8 [==============================] - 0s 41ms/step - loss: 58.2943 - mae: 58.7937 - lr: 2.3263e-05\n",
            "Epoch 73/100\n",
            "8/8 [==============================] - 0s 40ms/step - loss: 33.1316 - mae: 33.6296 - lr: 2.5119e-05\n",
            "Epoch 74/100\n",
            "8/8 [==============================] - 0s 40ms/step - loss: 18.8920 - mae: 19.3870 - lr: 2.7123e-05\n",
            "Epoch 75/100\n",
            "8/8 [==============================] - 0s 44ms/step - loss: 34.8814 - mae: 35.3797 - lr: 2.9286e-05\n",
            "Epoch 76/100\n",
            "8/8 [==============================] - 0s 41ms/step - loss: 37.0749 - mae: 37.5743 - lr: 3.1623e-05\n",
            "Epoch 77/100\n",
            "8/8 [==============================] - 0s 41ms/step - loss: 39.1131 - mae: 39.6122 - lr: 3.4145e-05\n",
            "Epoch 78/100\n",
            "8/8 [==============================] - 0s 41ms/step - loss: 41.6002 - mae: 42.0996 - lr: 3.6869e-05\n",
            "Epoch 79/100\n",
            "8/8 [==============================] - 0s 41ms/step - loss: 42.5458 - mae: 43.0454 - lr: 3.9811e-05\n",
            "Epoch 80/100\n",
            "8/8 [==============================] - 1s 66ms/step - loss: 44.5917 - mae: 45.0913 - lr: 4.2987e-05\n",
            "Epoch 81/100\n",
            "8/8 [==============================] - 1s 66ms/step - loss: 45.1660 - mae: 45.6657 - lr: 4.6416e-05\n",
            "Epoch 82/100\n",
            "8/8 [==============================] - 0s 38ms/step - loss: 46.6484 - mae: 47.1478 - lr: 5.0119e-05\n",
            "Epoch 83/100\n",
            "8/8 [==============================] - 1s 43ms/step - loss: 48.5368 - mae: 49.0366 - lr: 5.4117e-05\n",
            "Epoch 84/100\n",
            "8/8 [==============================] - 0s 41ms/step - loss: 49.3962 - mae: 49.8958 - lr: 5.8434e-05\n",
            "Epoch 85/100\n",
            "8/8 [==============================] - 0s 41ms/step - loss: 54.1328 - mae: 54.6325 - lr: 6.3096e-05\n",
            "Epoch 86/100\n",
            "8/8 [==============================] - 0s 41ms/step - loss: 52.2745 - mae: 52.7741 - lr: 6.8129e-05\n",
            "Epoch 87/100\n",
            "8/8 [==============================] - 0s 42ms/step - loss: 55.7458 - mae: 56.2457 - lr: 7.3564e-05\n",
            "Epoch 88/100\n",
            "8/8 [==============================] - 0s 40ms/step - loss: 57.3633 - mae: 57.8630 - lr: 7.9433e-05\n",
            "Epoch 89/100\n",
            "8/8 [==============================] - 0s 41ms/step - loss: 57.5947 - mae: 58.0945 - lr: 8.5770e-05\n",
            "Epoch 90/100\n",
            "8/8 [==============================] - 0s 40ms/step - loss: 61.4562 - mae: 61.9559 - lr: 9.2612e-05\n",
            "Epoch 91/100\n",
            "8/8 [==============================] - 0s 39ms/step - loss: 67.2930 - mae: 67.7928 - lr: 1.0000e-04\n",
            "Epoch 92/100\n",
            "8/8 [==============================] - 0s 39ms/step - loss: 66.6006 - mae: 67.1003 - lr: 1.0798e-04\n",
            "Epoch 93/100\n",
            "8/8 [==============================] - 0s 39ms/step - loss: 81.2431 - mae: 81.7429 - lr: 1.1659e-04\n",
            "Epoch 94/100\n",
            "8/8 [==============================] - 0s 40ms/step - loss: 112.4761 - mae: 112.9753 - lr: 1.2589e-04\n",
            "Epoch 95/100\n",
            "8/8 [==============================] - 0s 43ms/step - loss: 107.1071 - mae: 107.6061 - lr: 1.3594e-04\n",
            "Epoch 96/100\n",
            "8/8 [==============================] - 0s 40ms/step - loss: 134.6446 - mae: 135.1444 - lr: 1.4678e-04\n",
            "Epoch 97/100\n",
            "8/8 [==============================] - 0s 39ms/step - loss: 134.9306 - mae: 135.4305 - lr: 1.5849e-04\n",
            "Epoch 98/100\n",
            "8/8 [==============================] - 0s 42ms/step - loss: 141.1865 - mae: 141.6864 - lr: 1.7113e-04\n",
            "Epoch 99/100\n",
            "8/8 [==============================] - 0s 41ms/step - loss: 173.1341 - mae: 173.6339 - lr: 1.8478e-04\n",
            "Epoch 100/100\n",
            "8/8 [==============================] - 1s 64ms/step - loss: 179.9592 - mae: 180.4583 - lr: 1.9953e-04\n"
          ]
        }
      ],
      "source": [
        "keras.backend.clear_session()\n",
        "tf.random.set_seed(42)\n",
        "np.random.seed(42)\n",
        "\n",
        "window_size = 30\n",
        "train_set = seq2seq_window_dataset(x_train, window_size,\n",
        "                                   batch_size=128)\n",
        "\n",
        "model = keras.models.Sequential([\n",
        "  keras.layers.SimpleRNN(100, return_sequences=True,\n",
        "                         input_shape=[None, 1]), # Keras assumes the first dimension can be any batch size. The 'None' means that Keras can handle sequences of any length\n",
        "  keras.layers.SimpleRNN(100, return_sequences=True),\n",
        "  keras.layers.Dense(1),\n",
        "  keras.layers.Lambda(lambda x: x * 200)\n",
        "])\n",
        "lr_schedule = keras.callbacks.LearningRateScheduler(\n",
        "    lambda epoch: 1e-7 * 10**(epoch / 30))\n",
        "optimizer = keras.optimizers.SGD(lr=1e-7, momentum=0.9)\n",
        "model.compile(loss=keras.losses.Huber(),\n",
        "              optimizer=optimizer,\n",
        "              metrics=[\"mae\"])\n",
        "history = model.fit(train_set, epochs=100, callbacks=[lr_schedule])"
      ]
    },
    {
      "cell_type": "code",
      "execution_count": 38,
      "metadata": {
        "id": "YGNsWceq8OI8",
        "colab": {
          "base_uri": "https://localhost:8080/",
          "height": 457
        },
        "outputId": "37ea2a0c-d67d-4d5c-cb34-416389e187e4"
      },
      "outputs": [
        {
          "output_type": "execute_result",
          "data": {
            "text/plain": [
              "(1e-07, 0.0001, 0.0, 30.0)"
            ]
          },
          "metadata": {},
          "execution_count": 38
        },
        {
          "output_type": "display_data",
          "data": {
            "text/plain": [
              "<Figure size 640x480 with 1 Axes>"
            ],
            "image/png": "[encoded data removed]"
          },
          "metadata": {}
        }
      ],
      "source": [
        "plt.semilogx(history.history[\"lr\"], history.history[\"loss\"])\n",
        "plt.axis([1e-7, 1e-4, 0, 30])"
      ]
    },
    {
      "cell_type": "code",
      "execution_count": 39,
      "metadata": {
        "id": "G9lDnb0X8OI9",
        "colab": {
          "base_uri": "https://localhost:8080/"
        },
        "outputId": "6e7ff4b7-80d2-4e32-c5ab-4718a912effc"
      },
      "outputs": [
        {
          "output_type": "stream",
          "name": "stderr",
          "text": [
            "WARNING:absl:`lr` is deprecated in Keras optimizer, please use `learning_rate` or use the legacy optimizer, e.g.,tf.keras.optimizers.legacy.SGD.\n"
          ]
        },
        {
          "output_type": "stream",
          "name": "stdout",
          "text": [
            "Epoch 1/500\n",
            "8/8 [==============================] - 3s 123ms/step - loss: 11840.0596 - mae: 11840.5615 - val_loss: 2093.4951 - val_mae: 2093.9951\n",
            "Epoch 2/500\n",
            "8/8 [==============================] - 1s 60ms/step - loss: 32030.6523 - mae: 32031.1523 - val_loss: 33530.4961 - val_mae: 33531.0000\n",
            "Epoch 3/500\n",
            "8/8 [==============================] - 1s 62ms/step - loss: 38007.0781 - mae: 38007.5781 - val_loss: 31878.8262 - val_mae: 31879.3262\n",
            "Epoch 4/500\n",
            "8/8 [==============================] - 1s 61ms/step - loss: 36681.2539 - mae: 36681.7539 - val_loss: 47967.4102 - val_mae: 47967.9102\n",
            "Epoch 5/500\n",
            "8/8 [==============================] - 1s 70ms/step - loss: 40467.5625 - mae: 40468.0625 - val_loss: 29242.1387 - val_mae: 29242.6367\n",
            "Epoch 6/500\n",
            "8/8 [==============================] - 1s 58ms/step - loss: 36350.0430 - mae: 36350.5391 - val_loss: 56112.9375 - val_mae: 56113.4375\n",
            "Epoch 7/500\n",
            "8/8 [==============================] - 1s 100ms/step - loss: 40413.1953 - mae: 40413.6953 - val_loss: 28128.1465 - val_mae: 28128.6465\n",
            "Epoch 8/500\n",
            "8/8 [==============================] - 1s 96ms/step - loss: 37307.4961 - mae: 37307.9883 - val_loss: 17927.2266 - val_mae: 17927.7285\n",
            "Epoch 9/500\n",
            "8/8 [==============================] - 1s 111ms/step - loss: 35795.9102 - mae: 35796.4141 - val_loss: 63579.0312 - val_mae: 63579.5312\n",
            "Epoch 10/500\n",
            "8/8 [==============================] - 1s 60ms/step - loss: 41256.7852 - mae: 41257.2812 - val_loss: 25916.6074 - val_mae: 25917.1094\n",
            "Epoch 11/500\n",
            "8/8 [==============================] - 1s 59ms/step - loss: 36711.7383 - mae: 36712.2383 - val_loss: 17131.7031 - val_mae: 17132.2031\n"
          ]
        },
        {
          "output_type": "execute_result",
          "data": {
            "text/plain": [
              "<keras.src.callbacks.History at 0x7b6199da99c0>"
            ]
          },
          "metadata": {},
          "execution_count": 39
        }
      ],
      "source": [
        "keras.backend.clear_session()\n",
        "tf.random.set_seed(42)\n",
        "np.random.seed(42)\n",
        "\n",
        "window_size = 30\n",
        "train_set = seq2seq_window_dataset(x_train, window_size,\n",
        "                                   batch_size=128)\n",
        "valid_set = seq2seq_window_dataset(x_valid, window_size,\n",
        "                                   batch_size=128)\n",
        "\n",
        "model = keras.models.Sequential([\n",
        "  keras.layers.SimpleRNN(100, return_sequences=True,\n",
        "                         input_shape=[None, 1]),\n",
        "  keras.layers.SimpleRNN(100, return_sequences=True),\n",
        "  keras.layers.Dense(1),\n",
        "  keras.layers.Lambda(lambda x: x * 200.0)\n",
        "])\n",
        "optimizer = keras.optimizers.SGD(lr=1e-6, momentum=0.9)\n",
        "model.compile(loss=keras.losses.Huber(),\n",
        "              optimizer=optimizer,\n",
        "              metrics=[\"mae\"])\n",
        "early_stopping = keras.callbacks.EarlyStopping(patience=10)\n",
        "model.fit(train_set, epochs=500,\n",
        "          validation_data=valid_set,\n",
        "          callbacks=[early_stopping])"
      ]
    },
    {
      "cell_type": "code",
      "execution_count": 40,
      "metadata": {
        "id": "4mglBRex8OI_",
        "colab": {
          "base_uri": "https://localhost:8080/"
        },
        "outputId": "052468b5-8dc7-4ebc-e74b-cb7a791523c8"
      },
      "outputs": [
        {
          "output_type": "stream",
          "name": "stdout",
          "text": [
            "45/45 [==============================] - 1s 12ms/step\n"
          ]
        }
      ],
      "source": [
        "rnn_forecast = model_forecast(model, series[..., np.newaxis], window_size)\n",
        "rnn_forecast = rnn_forecast[split_time - window_size:-1, -1, 0]"
      ]
    },
    {
      "cell_type": "code",
      "execution_count": 41,
      "metadata": {
        "id": "Zl_FkcdI8OJA",
        "colab": {
          "base_uri": "https://localhost:8080/",
          "height": 542
        },
        "outputId": "e8c74deb-95b6-486b-d8e8-2c2f758a51fd"
      },
      "outputs": [
        {
          "output_type": "display_data",
          "data": {
            "text/plain": [
              "<Figure size 1000x600 with 1 Axes>"
            ],
            "image/png": "[encoded data removed]"
          },
          "metadata": {}
        }
      ],
      "source": [
        "plt.figure(figsize=(10, 6))\n",
        "plot_series(time_valid, x_valid)\n",
        "plot_series(time_valid, rnn_forecast)"
      ]
    },
    {
      "cell_type": "code",
      "execution_count": 42,
      "metadata": {
        "id": "cznEtSVK8OJB",
        "colab": {
          "base_uri": "https://localhost:8080/"
        },
        "outputId": "fef3f679-5e92-4c5a-9f9e-1d514bc34c31"
      },
      "outputs": [
        {
          "output_type": "execute_result",
          "data": {
            "text/plain": [
              "16886.793"
            ]
          },
          "metadata": {},
          "execution_count": 42
        }
      ],
      "source": [
        "keras.metrics.mean_absolute_error(x_valid, rnn_forecast).numpy()"
      ]
    }
  ],
  "metadata": {
    "colab": {
      "collapsed_sections": [
        "vidayERjaO5q"
      ],
      "name": "l08c06_forecasting_with_rnn.ipynb",
      "toc_visible": true,
      "provenance": []
    },
    "kernelspec": {
      "display_name": "Python 3",
      "name": "python3"
    }
  },
  "nbformat": 4,
  "nbformat_minor": 0
}